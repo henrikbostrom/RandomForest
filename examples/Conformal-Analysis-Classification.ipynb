{
 "cells": [
  {
   "cell_type": "markdown",
   "metadata": {
    "collapsed": true
   },
   "source": [
    "## Conformal Prediction Analysis\n",
    "\n",
    "### Classification Files:\n",
    "\n",
    "For classification, the following options are allowed:\n",
    "   - :std means that validity is guaranteed in general, but not for each class\n",
    "   - :default is the same as :std\n",
    "   - :classcond means that validity is guaranteed for each class\n",
    "   "
   ]
  },
  {
   "cell_type": "code",
   "execution_count": 106,
   "metadata": {
    "collapsed": false
   },
   "outputs": [
    {
     "data": {
      "text/plain": [
       "215×3 Array{String,2}:\n",
       " \"Probabilities\"                    \":std\"         \":classcond\"   \n",
       " \"[0.72,0.12,0.12,0.0,0.01,0.03]\"   \"[1]\"          \"[1,3,5,6,7]\"  \n",
       " \"[0.45,0.45,0.09,0.0,0.01,0.0]\"    \"[1,2,3]\"      \"[1,2,3,5,6,7]\"\n",
       " \"[0.08,0.85,0.04,0.0,0.02,0.01]\"   \"[2]\"          \"[2,3,5,6]\"    \n",
       " \"[0.49,0.41,0.1,0.0,0.0,0.0]\"      \"[1,2,3]\"      \"[1,2,3,5,6]\"  \n",
       " \"[0.78,0.19,0.03,0.0,0.0,0.0]\"     \"[1]\"          \"[1,3,5,6]\"    \n",
       " \"[0.34,0.66,0.0,0.0,0.0,0.0]\"      \"[1,2]\"        \"[2,3,5,6]\"    \n",
       " \"[0.78,0.2,0.02,0.0,0.0,0.0]\"      \"[1]\"          \"[1,3,5,6]\"    \n",
       " \"[0.82,0.14,0.04,0.0,0.0,0.0]\"     \"[1]\"          \"[1,3,5,6]\"    \n",
       " \"[0.47,0.34,0.12,0.0,0.03,0.04]\"   \"[1,2,3,6,7]\"  \"[1,2,3,5,6,7]\"\n",
       " \"[0.71,0.19,0.1,0.0,0.0,0.0]\"      \"[1]\"          \"[1,3,5,6,7]\"  \n",
       " \"[0.5,0.49,0.01,0.0,0.0,0.0]\"      \"[1,2]\"        \"[1,2,3,5,6,7]\"\n",
       " \"[0.93,0.06,0.01,0.0,0.0,0.0]\"     \"[1]\"          \"[1,3,5,6]\"    \n",
       " ⋮                                                                \n",
       " \"[0.0,0.01,0.0,0.04,0.04,0.91]\"    \"[7]\"          \"[3,5,6,7]\"    \n",
       " \"[0.0,0.0,0.0,0.0,0.02,0.98]\"      \"[7]\"          \"[3,5,6,7]\"    \n",
       " \"[0.0,0.0,0.0,0.0,0.0,1.0]\"        \"[7]\"          \"[3,5,6,7]\"    \n",
       " \"[0.0,0.01,0.0,0.0,0.0,0.99]\"      \"[7]\"          \"[3,5,6,7]\"    \n",
       " \"[0.0,0.0,0.0,0.0,0.0,1.0]\"        \"[7]\"          \"[3,5,6,7]\"    \n",
       " \"[0.01,0.02,0.0,0.13,0.03,0.81]\"   \"[7]\"          \"[3,5,6,7]\"    \n",
       " \"[0.0,0.0,0.0,0.01,0.04,0.95]\"     \"[7]\"          \"[3,5,6,7]\"    \n",
       " \"[0.02,0.02,0.0,0.03,0.01,0.92]\"   \"[7]\"          \"[3,5,6,7]\"    \n",
       " \"[0.0,0.0,0.0,0.0,0.0,1.0]\"        \"[7]\"          \"[3,5,6,7]\"    \n",
       " \"[0.0,0.038,0.0,0.01,0.122,0.83]\"  \"[7]\"          \"[3,5,6,7]\"    \n",
       " \"[0.0,0.0,0.0,0.03,0.0,0.97]\"      \"[7]\"          \"[3,5,6,7]\"    \n",
       " \"[0.0,0.01,0.0,0.01,0.01,0.97]\"    \"[7]\"          \"[3,5,6,7]\"    "
      ]
     },
     "execution_count": 106,
     "metadata": {},
     "output_type": "execute_result"
    }
   ],
   "source": [
    "using RandomForest, DataFrames, RDatasets, CSV\n",
    "\n",
    "actual1=CSV.read(\"uci/glass.txt\")[11]\n",
    "\n",
    "r1=experiment(files=[\"uci/glass.txt\"],methods = [forest( conformal = :std),forest( conformal = :classcond)])\n",
    "results1= r1[3][\"results\"][1][\"predictions\"]\n",
    "results2= r1[3][\"results\"][2][\"predictions\"]\n",
    "\n",
    "len=length(results1);\n",
    "\n",
    "resultsTable=Array(String,len+1,3)\n",
    "resultsTable[1,1],resultsTable[1,2],resultsTable[1,3]=\"Probabilities\",\":std\", \":classcond\"\n",
    "\n",
    "for i=1:len \n",
    "    resultsTable[i+1,1]=string(results1[i][3])\n",
    "    resultsTable[i+1,2]=string(results1[i][2])\n",
    "    resultsTable[i+1,3]=string(results2[i][2])\n",
    "end\n",
    "\n",
    "resultsTable\n"
   ]
  }
 ],
 "metadata": {
  "anaconda-cloud": {},
  "kernelspec": {
   "display_name": "Julia 0.6.0-dev",
   "language": "julia",
   "name": "julia-0.6"
  },
  "language_info": {
   "file_extension": ".jl",
   "mimetype": "application/julia",
   "name": "julia",
   "version": "0.6.0"
  }
 },
 "nbformat": 4,
 "nbformat_minor": 1
}
